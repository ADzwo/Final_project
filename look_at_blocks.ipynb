{
 "cells": [
  {
   "cell_type": "code",
   "execution_count": 1,
   "metadata": {},
   "outputs": [],
   "source": [
    "import os\n",
    "import pandas as pd\n",
    "import numpy as np\n",
    "from datetime import date"
   ]
  },
  {
   "cell_type": "code",
   "execution_count": 2,
   "metadata": {},
   "outputs": [],
   "source": [
    "today = today = str(date.today()).replace('-', '_')"
   ]
  },
  {
   "cell_type": "code",
   "execution_count": 20,
   "metadata": {},
   "outputs": [],
   "source": [
    "df_all = pd.DataFrame()\n",
    "for file in os.listdir('blocks/'):\n",
    "    if today in file:\n",
    "        df = pd.read_csv('blocks/'+file)\n",
    "        df['nr_vertices'] = df['end']-df['start']+1\n",
    "        df['file'] = file\n",
    "        df_all = pd.concat([df_all, df])"
   ]
  },
  {
   "cell_type": "code",
   "execution_count": 21,
   "metadata": {},
   "outputs": [
    {
     "data": {
      "text/html": [
       "<div>\n",
       "<style scoped>\n",
       "    .dataframe tbody tr th:only-of-type {\n",
       "        vertical-align: middle;\n",
       "    }\n",
       "\n",
       "    .dataframe tbody tr th {\n",
       "        vertical-align: top;\n",
       "    }\n",
       "\n",
       "    .dataframe thead th {\n",
       "        text-align: right;\n",
       "    }\n",
       "</style>\n",
       "<table border=\"1\" class=\"dataframe\">\n",
       "  <thead>\n",
       "    <tr style=\"text-align: right;\">\n",
       "      <th></th>\n",
       "      <th>genome</th>\n",
       "      <th>start</th>\n",
       "      <th>end</th>\n",
       "      <th>orient</th>\n",
       "      <th>block_nr</th>\n",
       "      <th>walk_length</th>\n",
       "      <th>nr_vertices</th>\n",
       "      <th>file</th>\n",
       "    </tr>\n",
       "  </thead>\n",
       "  <tbody>\n",
       "    <tr>\n",
       "      <th>0</th>\n",
       "      <td>0</td>\n",
       "      <td>744</td>\n",
       "      <td>748</td>\n",
       "      <td>1</td>\n",
       "      <td>0</td>\n",
       "      <td>64</td>\n",
       "      <td>5</td>\n",
       "      <td>chr13_KI270842v1_alt_5_5_3_2023_03_30_sort_by_...</td>\n",
       "    </tr>\n",
       "    <tr>\n",
       "      <th>1</th>\n",
       "      <td>2</td>\n",
       "      <td>924</td>\n",
       "      <td>928</td>\n",
       "      <td>1</td>\n",
       "      <td>0</td>\n",
       "      <td>64</td>\n",
       "      <td>5</td>\n",
       "      <td>chr13_KI270842v1_alt_5_5_3_2023_03_30_sort_by_...</td>\n",
       "    </tr>\n",
       "    <tr>\n",
       "      <th>2</th>\n",
       "      <td>4</td>\n",
       "      <td>1097</td>\n",
       "      <td>1101</td>\n",
       "      <td>1</td>\n",
       "      <td>0</td>\n",
       "      <td>64</td>\n",
       "      <td>5</td>\n",
       "      <td>chr13_KI270842v1_alt_5_5_3_2023_03_30_sort_by_...</td>\n",
       "    </tr>\n",
       "    <tr>\n",
       "      <th>3</th>\n",
       "      <td>4</td>\n",
       "      <td>1135</td>\n",
       "      <td>1139</td>\n",
       "      <td>1</td>\n",
       "      <td>0</td>\n",
       "      <td>64</td>\n",
       "      <td>5</td>\n",
       "      <td>chr13_KI270842v1_alt_5_5_3_2023_03_30_sort_by_...</td>\n",
       "    </tr>\n",
       "    <tr>\n",
       "      <th>4</th>\n",
       "      <td>0</td>\n",
       "      <td>2033</td>\n",
       "      <td>2035</td>\n",
       "      <td>1</td>\n",
       "      <td>1</td>\n",
       "      <td>64</td>\n",
       "      <td>3</td>\n",
       "      <td>chr13_KI270842v1_alt_5_5_3_2023_03_30_sort_by_...</td>\n",
       "    </tr>\n",
       "  </tbody>\n",
       "</table>\n",
       "</div>"
      ],
      "text/plain": [
       "   genome  start   end  orient  block_nr  walk_length  nr_vertices  \\\n",
       "0       0    744   748       1         0           64            5   \n",
       "1       2    924   928       1         0           64            5   \n",
       "2       4   1097  1101       1         0           64            5   \n",
       "3       4   1135  1139       1         0           64            5   \n",
       "4       0   2033  2035       1         1           64            3   \n",
       "\n",
       "                                                file  \n",
       "0  chr13_KI270842v1_alt_5_5_3_2023_03_30_sort_by_...  \n",
       "1  chr13_KI270842v1_alt_5_5_3_2023_03_30_sort_by_...  \n",
       "2  chr13_KI270842v1_alt_5_5_3_2023_03_30_sort_by_...  \n",
       "3  chr13_KI270842v1_alt_5_5_3_2023_03_30_sort_by_...  \n",
       "4  chr13_KI270842v1_alt_5_5_3_2023_03_30_sort_by_...  "
      ]
     },
     "execution_count": 21,
     "metadata": {},
     "output_type": "execute_result"
    }
   ],
   "source": [
    "df_all.head()"
   ]
  },
  {
   "cell_type": "code",
   "execution_count": 22,
   "metadata": {},
   "outputs": [
    {
     "data": {
      "text/html": [
       "<div>\n",
       "<style scoped>\n",
       "    .dataframe tbody tr th:only-of-type {\n",
       "        vertical-align: middle;\n",
       "    }\n",
       "\n",
       "    .dataframe tbody tr th {\n",
       "        vertical-align: top;\n",
       "    }\n",
       "\n",
       "    .dataframe thead th {\n",
       "        text-align: right;\n",
       "    }\n",
       "</style>\n",
       "<table border=\"1\" class=\"dataframe\">\n",
       "  <thead>\n",
       "    <tr style=\"text-align: right;\">\n",
       "      <th></th>\n",
       "      <th>genome</th>\n",
       "      <th>start</th>\n",
       "      <th>end</th>\n",
       "      <th>orient</th>\n",
       "      <th>block_nr</th>\n",
       "      <th>walk_length</th>\n",
       "      <th>nr_vertices</th>\n",
       "      <th>file</th>\n",
       "    </tr>\n",
       "  </thead>\n",
       "  <tbody>\n",
       "  </tbody>\n",
       "</table>\n",
       "</div>"
      ],
      "text/plain": [
       "Empty DataFrame\n",
       "Columns: [genome, start, end, orient, block_nr, walk_length, nr_vertices, file]\n",
       "Index: []"
      ]
     },
     "execution_count": 22,
     "metadata": {},
     "output_type": "execute_result"
    }
   ],
   "source": [
    "df_all[df_all['nr_vertices']==0]"
   ]
  },
  {
   "cell_type": "code",
   "execution_count": 23,
   "metadata": {},
   "outputs": [
    {
     "data": {
      "text/plain": [
       "count    6845.000000\n",
       "mean       72.716435\n",
       "std        65.916238\n",
       "min         1.000000\n",
       "25%        20.000000\n",
       "50%        55.000000\n",
       "75%       103.000000\n",
       "max       391.000000\n",
       "Name: walk_length, dtype: float64"
      ]
     },
     "execution_count": 23,
     "metadata": {},
     "output_type": "execute_result"
    }
   ],
   "source": [
    "df_all['walk_length'].describe()"
   ]
  },
  {
   "cell_type": "code",
   "execution_count": 24,
   "metadata": {},
   "outputs": [
    {
     "data": {
      "text/plain": [
       "file                                                              block_nr\n",
       "chr13_KI270842v1_alt_10_5_1_2023_03_30.csv                        0           20\n",
       "                                                                  1           13\n",
       "                                                                  2           12\n",
       "                                                                  3           10\n",
       "                                                                  4           14\n",
       "                                                                              ..\n",
       "chr13_KI270842v1_alt_5_5_3_2023_03_30_sort_by_nr_occurrences.csv  28           5\n",
       "                                                                  29           5\n",
       "                                                                  30          22\n",
       "                                                                  31           5\n",
       "                                                                  32           5\n",
       "Length: 671, dtype: int64"
      ]
     },
     "execution_count": 24,
     "metadata": {},
     "output_type": "execute_result"
    }
   ],
   "source": [
    "# Number of genomes in a block\n",
    "df_all.groupby(['file', 'block_nr']).size()"
   ]
  },
  {
   "cell_type": "code",
   "execution_count": 27,
   "metadata": {},
   "outputs": [
    {
     "name": "stdout",
     "output_type": "stream",
     "text": [
      "1740\n"
     ]
    }
   ],
   "source": [
    "longest_blocks = df_all[df_all['walk_length']>100]\n",
    "print(f'{len(longest_blocks)}')"
   ]
  },
  {
   "cell_type": "code",
   "execution_count": null,
   "metadata": {},
   "outputs": [],
   "source": [
    "longest_blocks.groupby(['file', 'block_nr']).size().loc['chr13_KI270842v1_alt_10_5_1_2023_03_30_sort_by_length.csv']"
   ]
  }
 ],
 "metadata": {
  "kernelspec": {
   "display_name": "Python 3",
   "language": "python",
   "name": "python3"
  },
  "language_info": {
   "codemirror_mode": {
    "name": "ipython",
    "version": 3
   },
   "file_extension": ".py",
   "mimetype": "text/x-python",
   "name": "python",
   "nbconvert_exporter": "python",
   "pygments_lexer": "ipython3",
   "version": "3.10.6"
  }
 },
 "nbformat": 4,
 "nbformat_minor": 2
}
